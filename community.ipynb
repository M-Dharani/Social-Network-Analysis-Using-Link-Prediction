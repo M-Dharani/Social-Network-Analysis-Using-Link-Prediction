{
  "nbformat": 4,
  "nbformat_minor": 5,
  "metadata": {
    "kernelspec": {
      "display_name": "Python 3",
      "language": "python",
      "name": "python3"
    },
    "language_info": {
      "codemirror_mode": {
        "name": "ipython",
        "version": 3
      },
      "file_extension": ".py",
      "mimetype": "text/x-python",
      "name": "python",
      "nbconvert_exporter": "python",
      "pygments_lexer": "ipython3",
      "version": "3.8.8"
    },
    "colab": {
      "name": "community.ipynb",
      "provenance": []
    }
  },
  "cells": [
    {
      "cell_type": "code",
      "metadata": {
        "id": "solved-shoulder",
        "outputId": "84545017-c5ee-4d37-a8e5-20012299086e"
      },
      "source": [
        "pip install \"python_louvain==0.13\"\n"
      ],
      "id": "solved-shoulder",
      "execution_count": null,
      "outputs": [
        {
          "name": "stdout",
          "output_type": "stream",
          "text": [
            "Requirement already satisfied: python_louvain==0.13 in c:\\users\\user\\anaconda3\\lib\\site-packages (0.13)\n",
            "Requirement already satisfied: networkx in c:\\users\\user\\anaconda3\\lib\\site-packages (from python_louvain==0.13) (2.5)\n",
            "Requirement already satisfied: decorator>=4.3.0 in c:\\users\\user\\anaconda3\\lib\\site-packages (from networkx->python_louvain==0.13) (4.4.2)\n",
            "Note: you may need to restart the kernel to use updated packages.\n"
          ]
        }
      ]
    },
    {
      "cell_type": "code",
      "metadata": {
        "id": "operational-queue",
        "outputId": "50a44901-a772-4516-af76-f191cb6fca40"
      },
      "source": [
        "pip install progressbar\n"
      ],
      "id": "operational-queue",
      "execution_count": null,
      "outputs": [
        {
          "name": "stdout",
          "output_type": "stream",
          "text": [
            "Requirement already satisfied: progressbar in c:\\users\\user\\anaconda3\\lib\\site-packages (2.5)\n",
            "Note: you may need to restart the kernel to use updated packages.\n"
          ]
        }
      ]
    },
    {
      "cell_type": "code",
      "metadata": {
        "id": "temporal-washington"
      },
      "source": [
        "import time\n",
        "import progressbar"
      ],
      "id": "temporal-washington",
      "execution_count": null,
      "outputs": []
    },
    {
      "cell_type": "code",
      "metadata": {
        "id": "removed-biography"
      },
      "source": [
        "import community\n",
        "import networkx as nx\n",
        "from tqdm import tqdm\n"
      ],
      "id": "removed-biography",
      "execution_count": null,
      "outputs": []
    },
    {
      "cell_type": "code",
      "metadata": {
        "id": "loose-casino"
      },
      "source": [
        "\n",
        "class EdMot(object):\n",
        "    def __init__(self, graph, component_count, cutoff):\n",
        "        self.graph = graph\n",
        "        self.component_count = component_count\n",
        "        self.cutoff = cutoff\n",
        "\n",
        "    def _overlap(self, node_1, node_2):\n",
        "        nodes_1 = self.graph.neighbors(node_1)\n",
        "        nodes_2 = self.graph.neighbors(node_2)\n",
        "        return len(set(nodes_1).intersection(set(nodes_2)))\n",
        "\n",
        "    def _calculate_motifs(self):\n",
        "        print(\"\\nCalculating overlaps.\\n\")\n",
        "        edges = [e for e in tqdm(self.graph.edges()) if self._overlap(e[0], e[1]) >= self.cutoff]\n",
        "        self.motif_graph = nx.from_edgelist(edges)\n",
        "\n",
        "    def _extract_components(self):\n",
        "        print(\"\\nExtracting components.\\n\")\n",
        "        components = [c for c in nx.connected_components(self.motif_graph)]\n",
        "        components = [[len(c), c] for c in components]\n",
        "        components.sort(key=lambda x: x[0], reverse=True)\n",
        "        important_components = [components[comp][1] for comp\n",
        "                                in range(self.component_count if len(components)>=self.component_count else len(components))]\n",
        "        self.blocks = [list(graph) for graph in important_components]\n",
        "\n",
        "    def _fill_blocks(self):\n",
        "        print(\"Adding edge blocks.\\n\")\n",
        "        bar = progressbar.ProgressBar().\n",
        "        new_edges = [(n_1, n_2) for nodes in self.blocks for n_1 in nodes for n_2 in nodes if n_1!= n_2]\n",
        "        self.graph.add_edges_from(new_edges)\n",
        "        print(\"Blocks completed\")\n",
        "\n",
        "    def fit(self):\n",
        "        self._calculate_motifs()\n",
        "        self._extract_components()\n",
        "        self._fill_blocks()\n",
        "        bar = progressbar.ProgressBar()\n",
        "        partition = community.best_partition(self.graph)\n",
        "        return partition\n"
      ],
      "id": "loose-casino",
      "execution_count": null,
      "outputs": []
    },
    {
      "cell_type": "code",
      "metadata": {
        "id": "broad-natural"
      },
      "source": [
        "import json\n",
        "import pandas as pd\n",
        "import networkx as nx\n",
        "\n",
        "def graph_reader(path):\n",
        "    graph = nx.from_edgelist(pd.read_csv(path).values.tolist())\n",
        "    graph.remove_edges_from(nx.selfloop_edges(graph))\n",
        "    return graph\n",
        "\n",
        "def membership_saver(membership_path, membership):\n",
        "    with open(membership_path, \"w\") as f:\n",
        "        json.dump(membership, f)\n"
      ],
      "id": "broad-natural",
      "execution_count": null,
      "outputs": []
    },
    {
      "cell_type": "code",
      "metadata": {
        "id": "fitted-camcorder"
      },
      "source": [
        "\n",
        "def main():\n",
        "\n",
        "    graph = graph_reader(\"./input/edges_1.csv\")\n",
        "    model = EdMot(graph, 2, 50)\n",
        "    memberships = model.fit()\n",
        "    membership_saver(\"./output/facebook_membership.json\", memberships)\n",
        "    \n",
        "if __name__ == \"__main__\":\n",
        "    main()\n"
      ],
      "id": "fitted-camcorder",
      "execution_count": null,
      "outputs": []
    },
    {
      "cell_type": "code",
      "metadata": {
        "id": "reserved-vienna"
      },
      "source": [
        ""
      ],
      "id": "reserved-vienna",
      "execution_count": null,
      "outputs": []
    }
  ]
}